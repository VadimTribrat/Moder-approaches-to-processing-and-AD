{
 "cells": [
  {
   "cell_type": "code",
   "execution_count": 1,
   "metadata": {},
   "outputs": [],
   "source": [
    "import numpy as np\n",
    "import pylab\n",
    "import seaborn as sns"
   ]
  },
  {
   "cell_type": "markdown",
   "metadata": {},
   "source": [
    " # Two independet samples"
   ]
  },
  {
   "cell_type": "markdown",
   "metadata": {},
   "source": [
    " # Mean"
   ]
  },
  {
   "cell_type": "code",
   "execution_count": 22,
   "metadata": {},
   "outputs": [
    {
     "name": "stdout",
     "output_type": "stream",
     "text": [
      "Temp:  0.010836817847956088\n",
      "X:  0.0025488179819899395\n",
      "Add:  0.027412817579888383\n"
     ]
    }
   ],
   "source": [
    "counter_mean_temp = 0\n",
    "counter_mean_X = 0\n",
    "counter_mean_add = 0\n",
    "t = 1000\n",
    "vec_X = list()\n",
    "vec_add = list()\n",
    "div = list()\n",
    "for _ in range(t):\n",
    "    X = np.random.normal(0, 3, 10)\n",
    "    add = np.random.normal(0, 3, 5)\n",
    "    temp = np.array(list(X) + list(add))\n",
    "    counter_mean_temp+=np.mean(temp)\n",
    "    counter_mean_X+=np.mean(X)\n",
    "    vec_X.append(np.mean(X))\n",
    "    vec_add.append(np.mean(add))\n",
    "    div.append(np.mean(X) - np.mean(add))\n",
    "    counter_mean_add+=np.mean(add)\n",
    "print('Temp: ', counter_mean_temp/t)\n",
    "print('X: ', counter_mean_X/t)\n",
    "print('Add: ', counter_mean_add/t)"
   ]
  },
  {
   "cell_type": "code",
   "execution_count": 23,
   "metadata": {},
   "outputs": [
    {
     "data": {
      "text/plain": [
       "<matplotlib.axes._subplots.AxesSubplot at 0x1f7d5b8aa90>"
      ]
     },
     "execution_count": 23,
     "metadata": {},
     "output_type": "execute_result"
    },
    {
     "data": {
      "image/png": "[encoded data removed]",
      "text/plain": [
       "<Figure size 432x288 with 1 Axes>"
      ]
     },
     "metadata": {
      "needs_background": "light"
     },
     "output_type": "display_data"
    }
   ],
   "source": [
    "sns.histplot(vec_X)\n",
    "sns.histplot(vec_add, color='lightcoral')"
   ]
  },
  {
   "cell_type": "code",
   "execution_count": 24,
   "metadata": {},
   "outputs": [
    {
     "name": "stdout",
     "output_type": "stream",
     "text": [
      "0.9085381575078659\n",
      "1.8251138545347594\n",
      "2.837759016716223\n"
     ]
    },
    {
     "data": {
      "text/plain": [
       "<matplotlib.axes._subplots.AxesSubplot at 0x1f7d5c97d00>"
      ]
     },
     "execution_count": 24,
     "metadata": {},
     "output_type": "execute_result"
    },
    {
     "data": {
      "image/png": "[encoded data removed]",
      "text/plain": [
       "<Figure size 432x288 with 1 Axes>"
      ]
     },
     "metadata": {
      "needs_background": "light"
     },
     "output_type": "display_data"
    }
   ],
   "source": [
    "print(np.var(vec_X))\n",
    "print(np.var(vec_add))\n",
    "print(np.var(div))\n",
    "sns.histplot(div)"
   ]
  },
  {
   "cell_type": "code",
   "execution_count": 25,
   "metadata": {},
   "outputs": [
    {
     "name": "stdout",
     "output_type": "stream",
     "text": [
      "-0.024863999597898413\n"
     ]
    }
   ],
   "source": [
    "print(np.mean(div))"
   ]
  },
  {
   "cell_type": "markdown",
   "metadata": {},
   "source": [
    " # Median"
   ]
  },
  {
   "cell_type": "code",
   "execution_count": 27,
   "metadata": {},
   "outputs": [
    {
     "name": "stdout",
     "output_type": "stream",
     "text": [
      "Temp:  0.061853337295429967\n",
      "X:  0.06953530495392655\n",
      "Add:  -0.04412116395628065\n"
     ]
    }
   ],
   "source": [
    "counter_med_temp = 0\n",
    "counter_med_X = 0\n",
    "counter_med_add = 0\n",
    "t = 1000\n",
    "vec_X = list()\n",
    "vec_add = list()\n",
    "div = list()\n",
    "for _ in range(t):\n",
    "    X = np.random.normal(0, 3, 10)\n",
    "    add = np.random.normal(0, 3, 5)\n",
    "    temp = np.array(list(X) + list(add))\n",
    "    counter_med_temp+=np.median(temp)\n",
    "    counter_med_X+=np.median(X)\n",
    "    vec_X.append(np.median(X))\n",
    "    vec_add.append(np.median(add))\n",
    "    div.append(np.median(X) - np.median(add))\n",
    "    counter_med_add+=np.median(add)\n",
    "print('Temp: ', counter_med_temp/t)\n",
    "print('X: ', counter_med_X/t)\n",
    "print('Add: ', counter_med_add/t)"
   ]
  },
  {
   "cell_type": "code",
   "execution_count": 28,
   "metadata": {},
   "outputs": [
    {
     "data": {
      "text/plain": [
       "<matplotlib.axes._subplots.AxesSubplot at 0x1f7d5dc2430>"
      ]
     },
     "execution_count": 28,
     "metadata": {},
     "output_type": "execute_result"
    },
    {
     "data": {
      "image/png": "[encoded data removed]",
      "text/plain": [
       "<Figure size 432x288 with 1 Axes>"
      ]
     },
     "metadata": {
      "needs_background": "light"
     },
     "output_type": "display_data"
    }
   ],
   "source": [
    "sns.histplot(vec_X)\n",
    "sns.histplot(vec_add, color='lightcoral')"
   ]
  },
  {
   "cell_type": "code",
   "execution_count": 29,
   "metadata": {},
   "outputs": [
    {
     "name": "stdout",
     "output_type": "stream",
     "text": [
      "0.06953530495392653\n",
      "-0.04412116395628065\n",
      "0.11365646891020717\n"
     ]
    },
    {
     "data": {
      "text/plain": [
       "<matplotlib.axes._subplots.AxesSubplot at 0x1f7d5a76a60>"
      ]
     },
     "execution_count": 29,
     "metadata": {},
     "output_type": "execute_result"
    },
    {
     "data": {
      "image/png": "[encoded data removed]",
      "text/plain": [
       "<Figure size 432x288 with 1 Axes>"
      ]
     },
     "metadata": {
      "needs_background": "light"
     },
     "output_type": "display_data"
    }
   ],
   "source": [
    "print(np.mean(vec_X))\n",
    "print(np.mean(vec_add))\n",
    "print(np.mean(div))\n",
    "sns.histplot(div)"
   ]
  },
  {
   "cell_type": "code",
   "execution_count": 30,
   "metadata": {},
   "outputs": [
    {
     "name": "stdout",
     "output_type": "stream",
     "text": [
      "0.11365646891020717\n"
     ]
    }
   ],
   "source": [
    "print(np.mean(div))"
   ]
  },
  {
   "cell_type": "markdown",
   "metadata": {},
   "source": [
    " # Standart deviation"
   ]
  },
  {
   "cell_type": "code",
   "execution_count": 31,
   "metadata": {},
   "outputs": [
    {
     "name": "stdout",
     "output_type": "stream",
     "text": [
      "Temp:  2.857855700328479\n",
      "X:  2.7755018568716925\n",
      "Add:  2.5476940746138705\n"
     ]
    }
   ],
   "source": [
    "counter_std_temp = 0\n",
    "counter_std_X = 0\n",
    "counter_std_add = 0\n",
    "t = 1000\n",
    "vec_X = list()\n",
    "vec_add = list()\n",
    "div = list()\n",
    "for _ in range(t):\n",
    "    X = np.random.normal(0, 3, 10)\n",
    "    add = np.random.normal(0, 3, 5)\n",
    "    temp = np.array(list(X) + list(add))\n",
    "    counter_std_temp+=np.std(temp)\n",
    "    counter_std_X+=np.std(X)\n",
    "    vec_X.append(np.std(X))\n",
    "    vec_add.append(np.std(add))\n",
    "    div.append(np.std(X) - np.std(add))\n",
    "    counter_std_add+=np.std(add)\n",
    "print('Temp: ', counter_std_temp/t)\n",
    "print('X: ', counter_std_X/t)\n",
    "print('Add: ', counter_std_add/t)"
   ]
  },
  {
   "cell_type": "code",
   "execution_count": 32,
   "metadata": {},
   "outputs": [
    {
     "data": {
      "text/plain": [
       "<matplotlib.axes._subplots.AxesSubplot at 0x1f7d5f3ff70>"
      ]
     },
     "execution_count": 32,
     "metadata": {},
     "output_type": "execute_result"
    },
    {
     "data": {
      "image/png": "[encoded data removed]",
      "text/plain": [
       "<Figure size 432x288 with 1 Axes>"
      ]
     },
     "metadata": {
      "needs_background": "light"
     },
     "output_type": "display_data"
    }
   ],
   "source": [
    "sns.histplot(vec_X)\n",
    "sns.histplot(vec_add, color='lightcoral')"
   ]
  },
  {
   "cell_type": "code",
   "execution_count": 33,
   "metadata": {},
   "outputs": [
    {
     "name": "stdout",
     "output_type": "stream",
     "text": [
      "2.7755018568716943\n",
      "2.5476940746138705\n",
      "0.22780778225782333\n"
     ]
    },
    {
     "data": {
      "text/plain": [
       "<matplotlib.axes._subplots.AxesSubplot at 0x1f7d5fb6fd0>"
      ]
     },
     "execution_count": 33,
     "metadata": {},
     "output_type": "execute_result"
    },
    {
     "data": {
      "image/png": "[encoded data removed]",
      "text/plain": [
       "<Figure size 432x288 with 1 Axes>"
      ]
     },
     "metadata": {
      "needs_background": "light"
     },
     "output_type": "display_data"
    }
   ],
   "source": [
    "print(np.mean(vec_X))\n",
    "print(np.mean(vec_add))\n",
    "print(np.mean(div))\n",
    "sns.histplot(div)"
   ]
  },
  {
   "cell_type": "code",
   "execution_count": 34,
   "metadata": {},
   "outputs": [
    {
     "name": "stdout",
     "output_type": "stream",
     "text": [
      "0.22780778225782333\n"
     ]
    }
   ],
   "source": [
    "print(np.mean(div))"
   ]
  },
  {
   "cell_type": "markdown",
   "metadata": {},
   "source": [
    " # Dependent samples"
   ]
  },
  {
   "cell_type": "markdown",
   "metadata": {},
   "source": [
    " # Mean"
   ]
  },
  {
   "cell_type": "code",
   "execution_count": 40,
   "metadata": {},
   "outputs": [
    {
     "name": "stdout",
     "output_type": "stream",
     "text": [
      "Temp:  0.010726422823862655\n",
      "X:  0.003222152175785158\n",
      "Add:  0.025734964120017557\n"
     ]
    }
   ],
   "source": [
    "counter_mean_temp = 0\n",
    "counter_mean_X = 0\n",
    "counter_mean_add = 0\n",
    "t = 1000\n",
    "vec_X = list()\n",
    "vec_add = list()\n",
    "div = list()\n",
    "big_vec = list()\n",
    "for _ in range(t):\n",
    "    X = np.random.normal(0, 3, 10)\n",
    "    add = np.random.normal(0, 3, 5)\n",
    "    temp = np.array(list(X) + list(add))\n",
    "    counter_mean_temp+=np.mean(temp)\n",
    "    counter_mean_X+=np.mean(X)\n",
    "    vec_X.append(np.mean(X))\n",
    "    vec_add.append(np.mean(add))\n",
    "    big_vec.append(np.mean(temp))\n",
    "    div.append(np.mean(temp) - np.mean(X))\n",
    "    counter_mean_add+=np.mean(add)\n",
    "print('Temp: ', counter_mean_temp/t)\n",
    "print('X: ', counter_mean_X/t)\n",
    "print('Add: ', counter_mean_add/t)"
   ]
  },
  {
   "cell_type": "code",
   "execution_count": 41,
   "metadata": {},
   "outputs": [
    {
     "data": {
      "text/plain": [
       "<matplotlib.axes._subplots.AxesSubplot at 0x1f7d62f9bb0>"
      ]
     },
     "execution_count": 41,
     "metadata": {},
     "output_type": "execute_result"
    },
    {
     "data": {
      "image/png": "[encoded data removed]",
      "text/plain": [
       "<Figure size 432x288 with 1 Axes>"
      ]
     },
     "metadata": {
      "needs_background": "light"
     },
     "output_type": "display_data"
    }
   ],
   "source": [
    "sns.histplot(vec_X)\n",
    "sns.histplot(big_vec, color='lightcoral')"
   ]
  },
  {
   "cell_type": "code",
   "execution_count": 42,
   "metadata": {},
   "outputs": [
    {
     "name": "stdout",
     "output_type": "stream",
     "text": [
      "0.0032221521757851636\n",
      "0.02573496412001756\n",
      "0.0075042706480774645\n"
     ]
    },
    {
     "data": {
      "text/plain": [
       "<matplotlib.axes._subplots.AxesSubplot at 0x1f7d63cedf0>"
      ]
     },
     "execution_count": 42,
     "metadata": {},
     "output_type": "execute_result"
    },
    {
     "data": {
      "image/png": "[encoded data removed]",
      "text/plain": [
       "<Figure size 432x288 with 1 Axes>"
      ]
     },
     "metadata": {
      "needs_background": "light"
     },
     "output_type": "display_data"
    }
   ],
   "source": [
    "print(np.mean(vec_X))\n",
    "print(np.mean(vec_add))\n",
    "print(np.mean(div))\n",
    "sns.histplot(div)"
   ]
  },
  {
   "cell_type": "code",
   "execution_count": 43,
   "metadata": {},
   "outputs": [
    {
     "name": "stdout",
     "output_type": "stream",
     "text": [
      "0.0075042706480774645\n"
     ]
    }
   ],
   "source": [
    "print(np.mean(div))"
   ]
  },
  {
   "cell_type": "markdown",
   "metadata": {},
   "source": [
    " # Median"
   ]
  },
  {
   "cell_type": "code",
   "execution_count": 44,
   "metadata": {},
   "outputs": [
    {
     "name": "stdout",
     "output_type": "stream",
     "text": [
      "Temp:  -0.022407016794158928\n",
      "X:  0.012950295302080462\n",
      "Add:  -0.05957927752908925\n"
     ]
    }
   ],
   "source": [
    "counter_med_temp = 0\n",
    "counter_med_X = 0\n",
    "counter_med_add = 0\n",
    "t = 1000\n",
    "vec_X = list()\n",
    "vec_add = list()\n",
    "div = list()\n",
    "big_vec = list()\n",
    "for _ in range(t):\n",
    "    X = np.random.normal(0, 3, 10)\n",
    "    add = np.random.normal(0, 3, 5)\n",
    "    temp = np.array(list(X) + list(add))\n",
    "    counter_med_temp+=np.median(temp)\n",
    "    counter_med_X+=np.median(X)\n",
    "    vec_X.append(np.median(X))\n",
    "    vec_add.append(np.median(add))\n",
    "    big_vec.append(np.median(temp))\n",
    "    div.append(np.median(temp) - np.median(X))\n",
    "    counter_med_add+=np.median(add)\n",
    "print('Temp: ', counter_med_temp/t)\n",
    "print('X: ', counter_med_X/t)\n",
    "print('Add: ', counter_med_add/t)"
   ]
  },
  {
   "cell_type": "code",
   "execution_count": 45,
   "metadata": {},
   "outputs": [
    {
     "data": {
      "text/plain": [
       "<matplotlib.axes._subplots.AxesSubplot at 0x1f7d73c3730>"
      ]
     },
     "execution_count": 45,
     "metadata": {},
     "output_type": "execute_result"
    },
    {
     "data": {
      "image/png": "[encoded data removed]",
      "text/plain": [
       "<Figure size 432x288 with 1 Axes>"
      ]
     },
     "metadata": {
      "needs_background": "light"
     },
     "output_type": "display_data"
    }
   ],
   "source": [
    "sns.histplot(vec_X)\n",
    "sns.histplot(big_vec, color='lightcoral')"
   ]
  },
  {
   "cell_type": "code",
   "execution_count": 46,
   "metadata": {},
   "outputs": [
    {
     "name": "stdout",
     "output_type": "stream",
     "text": [
      "0.012950295302080488\n",
      "-0.05957927752908921\n",
      "-0.03535731209623943\n"
     ]
    },
    {
     "data": {
      "text/plain": [
       "<matplotlib.axes._subplots.AxesSubplot at 0x1f7d7450df0>"
      ]
     },
     "execution_count": 46,
     "metadata": {},
     "output_type": "execute_result"
    },
    {
     "data": {
      "image/png": "[encoded data removed]",
      "text/plain": [
       "<Figure size 432x288 with 1 Axes>"
      ]
     },
     "metadata": {
      "needs_background": "light"
     },
     "output_type": "display_data"
    }
   ],
   "source": [
    "print(np.mean(vec_X))\n",
    "print(np.mean(vec_add))\n",
    "print(np.mean(div))\n",
    "sns.histplot(div)"
   ]
  },
  {
   "cell_type": "code",
   "execution_count": 47,
   "metadata": {},
   "outputs": [
    {
     "name": "stdout",
     "output_type": "stream",
     "text": [
      "-0.03535731209623943\n"
     ]
    }
   ],
   "source": [
    "print(np.mean(div))"
   ]
  },
  {
   "cell_type": "markdown",
   "metadata": {},
   "source": [
    " # STD\n",
    " "
   ]
  },
  {
   "cell_type": "code",
   "execution_count": 51,
   "metadata": {},
   "outputs": [
    {
     "name": "stdout",
     "output_type": "stream",
     "text": [
      "Temp:  2.8545431099197445\n",
      "X:  2.766227925620756\n",
      "Add:  2.5386823623992147\n"
     ]
    }
   ],
   "source": [
    "counter_std_temp = 0\n",
    "counter_std_X = 0\n",
    "counter_std_add = 0\n",
    "t = 1000\n",
    "vec_X = list()\n",
    "vec_add = list()\n",
    "div = list()\n",
    "big_vec = list()\n",
    "for _ in range(t):\n",
    "    X = np.random.normal(0, 3, 10)\n",
    "    add = np.random.normal(0, 3, 5)\n",
    "    temp = np.array(list(X) + list(add))\n",
    "    counter_std_temp+=np.std(temp)\n",
    "    counter_std_X+=np.std(X)\n",
    "    vec_X.append(np.std(X))\n",
    "    vec_add.append(np.std(add))\n",
    "    big_vec.append(np.std(temp))\n",
    "    div.append(np.std(temp) - np.std(X))\n",
    "    counter_std_add+=np.std(add)\n",
    "print('Temp: ', counter_std_temp/t)\n",
    "print('X: ', counter_std_X/t)\n",
    "print('Add: ', counter_std_add/t)"
   ]
  },
  {
   "cell_type": "code",
   "execution_count": 52,
   "metadata": {},
   "outputs": [
    {
     "data": {
      "text/plain": [
       "<matplotlib.axes._subplots.AxesSubplot at 0x1f7d76a7b50>"
      ]
     },
     "execution_count": 52,
     "metadata": {},
     "output_type": "execute_result"
    },
    {
     "data": {
      "image/png": "[encoded data removed]",
      "text/plain": [
       "<Figure size 432x288 with 1 Axes>"
      ]
     },
     "metadata": {
      "needs_background": "light"
     },
     "output_type": "display_data"
    }
   ],
   "source": [
    "sns.histplot(vec_X)\n",
    "sns.histplot(big_vec, color='lightcoral')"
   ]
  },
  {
   "cell_type": "code",
   "execution_count": 53,
   "metadata": {},
   "outputs": [
    {
     "name": "stdout",
     "output_type": "stream",
     "text": [
      "2.7662279256207563\n",
      "2.538682362399212\n",
      "0.08831518429898716\n"
     ]
    },
    {
     "data": {
      "text/plain": [
       "<matplotlib.axes._subplots.AxesSubplot at 0x1f7d775c130>"
      ]
     },
     "execution_count": 53,
     "metadata": {},
     "output_type": "execute_result"
    },
    {
     "data": {
      "image/png": "[encoded data removed]",
      "text/plain": [
       "<Figure size 432x288 with 1 Axes>"
      ]
     },
     "metadata": {
      "needs_background": "light"
     },
     "output_type": "display_data"
    }
   ],
   "source": [
    "print(np.mean(vec_X))\n",
    "print(np.mean(vec_add))\n",
    "print(np.mean(div))\n",
    "sns.histplot(div)"
   ]
  },
  {
   "cell_type": "code",
   "execution_count": 54,
   "metadata": {},
   "outputs": [
    {
     "name": "stdout",
     "output_type": "stream",
     "text": [
      "0.08831518429898716\n"
     ]
    }
   ],
   "source": [
    "print(np.mean(div))"
   ]
  },
  {
   "cell_type": "code",
   "execution_count": null,
   "metadata": {},
   "outputs": [],
   "source": []
  }
 ],
 "metadata": {
  "kernelspec": {
   "display_name": "Python 3",
   "language": "python",
   "name": "python3"
  },
  "language_info": {
   "codemirror_mode": {
    "name": "ipython",
    "version": 3
   },
   "file_extension": ".py",
   "mimetype": "text/x-python",
   "name": "python",
   "nbconvert_exporter": "python",
   "pygments_lexer": "ipython3",
   "version": "3.8.5"
  }
 },
 "nbformat": 4,
 "nbformat_minor": 4
}
